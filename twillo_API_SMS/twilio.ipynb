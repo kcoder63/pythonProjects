{
 "cells": [
  {
   "cell_type": "code",
   "execution_count": 1,
   "metadata": {},
   "outputs": [
    {
     "name": "stdin",
     "output_type": "stream",
     "text": [
      "What's the Twilio Account SID? ··································\n",
      "What's the Twilio Secret? ································\n"
     ]
    }
   ],
   "source": [
    "import json\n",
    "from getpass import getpass\n",
    "\n",
    "reset_creds = False\n",
    "\n",
    "if reset_creds:\n",
    "    twilio_sid = getpass(\"What's the Twilio Account SID?\")\n",
    "    twilio_secret = getpass(\"What's the Twilio Secret?\")\n",
    "    #This will save our creds from above (blank or not) to a local file named `creds.json` so we can re-use this credentials.\n",
    "\n",
    "    data = {\n",
    "        \"twilio_sid\": twilio_sid,\n",
    "        \"twilio_secret\": twilio_secret\n",
    "    }\n",
    "    json_data = json.dumps(data)\n",
    "    with open('creds.json', 'w') as f:\n",
    "        f.write(json_data)"
   ]
  },
  {
   "cell_type": "code",
   "execution_count": 2,
   "metadata": {},
   "outputs": [
    {
     "name": "stdout",
     "output_type": "stream",
     "text": [
      "{\"twilio_sid\": \"AC5072b6af8ab7d23d042f21b68ea162f8\", \"twilio_secret\": \"964f24e86ea9aa20b37d39626b973af8\"}"
     ]
    }
   ],
   "source": [
    "cat creds.json"
   ]
  },
  {
   "cell_type": "code",
   "execution_count": 5,
   "metadata": {},
   "outputs": [],
   "source": [
    "twilio_sid = \"\"\n",
    "twilio_secret = ''\n",
    "with open('creds.json', 'r') as f:\n",
    "        raw_data = f.read()\n",
    "        cred_data = json.loads(raw_data)\n",
    "        twilio_sid = cred_data.get('twilio_sid')\n",
    "        twilio_secret = cred_data.get('twilio_secret')\n"
   ]
  },
  {
   "cell_type": "code",
   "execution_count": 6,
   "metadata": {},
   "outputs": [],
   "source": [
    "from twilio.rest import Client\n",
    "\n",
    "client = Client(twilio_sid, twilio_secret)"
   ]
  },
  {
   "cell_type": "code",
   "execution_count": 11,
   "metadata": {},
   "outputs": [
    {
     "name": "stdin",
     "output_type": "stream",
     "text": [
      "your number ············\n",
      "other number ·············\n"
     ]
    }
   ],
   "source": [
    "my_number = getpass(\"your number\") \n",
    "other_number = getpass(\"other number\")"
   ]
  },
  {
   "cell_type": "code",
   "execution_count": 13,
   "metadata": {},
   "outputs": [],
   "source": [
    "body = \"Hello Hackers!\"\n",
    "message_twilio = client.messages.create(\n",
    "    body=body,\n",
    "    from_=my_number,\n",
    "    to=other_number\n",
    ")"
   ]
  },
  {
   "cell_type": "code",
   "execution_count": null,
   "metadata": {},
   "outputs": [],
   "source": []
  }
 ],
 "metadata": {
  "kernelspec": {
   "display_name": "Python 3",
   "language": "python",
   "name": "python3"
  },
  "language_info": {
   "codemirror_mode": {
    "name": "ipython",
    "version": 3
   },
   "file_extension": ".py",
   "mimetype": "text/x-python",
   "name": "python",
   "nbconvert_exporter": "python",
   "pygments_lexer": "ipython3",
   "version": "3.8.5"
  }
 },
 "nbformat": 4,
 "nbformat_minor": 4
}
